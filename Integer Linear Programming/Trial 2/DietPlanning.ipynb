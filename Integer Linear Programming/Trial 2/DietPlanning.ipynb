{
 "cells": [
  {
   "cell_type": "code",
   "execution_count": 1,
   "metadata": {},
   "outputs": [],
   "source": [
    "import dimod\n"
   ]
  },
  {
   "cell_type": "code",
   "execution_count": 3,
   "metadata": {},
   "outputs": [],
   "source": [
    "foods = {\n",
    "    'rice' : {'Calories': 100, 'Protein': 3, 'Fat': 1, 'Carbs': 22, 'Fiber': 2, \n",
    "    'Taste': 7, 'Cost': 2.5, 'Units': 'continuous'},\n",
    "    'tofu' : {'Calories': 140, 'Protein': 17, 'Fat': 9, 'Carbs': 3, 'Fiber': 2, \n",
    "    'Taste': 2, 'Cost': 4.0, 'Units': 'continuous'},\n",
    "    'banana' : {'Calories': 90, 'Protein': 1, 'Fat': 0, 'Carbs': 23, 'Fiber': 3, \n",
    "    'Taste': 10, 'Cost': 1.0, 'Units': 'discrete'},\n",
    "    'lentils' : {'Calories': 150, 'Protein': 9, 'Fat': 0, 'Carbs': 25, 'Fiber': 4, \n",
    "    'Taste': 3, 'Cost': 1.3, 'Units': 'continuous'},\n",
    "    'bread' : {'Calories': 270, 'Protein': 9, 'Fat': 3, 'Carbs': 50, 'Fiber': 3, \n",
    "    'Taste': 5, 'Cost': 0.25, 'Units': 'continuous'},\n",
    "    'avocado' : {'Calories': 300, 'Protein': 4, 'Fat': 30, 'Carbs': 20, 'Fiber': 14, \n",
    "    'Taste': 5, 'Cost': 2.0, 'Units': 'discrete'}\n",
    "}"
   ]
  },
  {
   "cell_type": "code",
   "execution_count": 4,
   "metadata": {},
   "outputs": [],
   "source": [
    "min_nutrients = {'Protein': 50, 'Fat': 30, 'Carbs': 130, 'Fiber': 30}\n",
    "max_calories = 2000"
   ]
  },
  {
   "cell_type": "markdown",
   "metadata": {},
   "source": [
    "## Variables\n",
    "Instantiate some real and integer variables in a list, `quantities`, that in the solutions will be assigned values for the selected quantities of every available food."
   ]
  },
  {
   "cell_type": "code",
   "execution_count": 5,
   "metadata": {},
   "outputs": [],
   "source": [
    "quantities = [dimod.Real(f\"{food}\") if foods[food][\"Units\"] == 'continuous'\n",
    "                                    else dimod.Integer(f\"{food}\")\n",
    "                                    for food in foods.keys()]"
   ]
  },
  {
   "cell_type": "markdown",
   "metadata": {},
   "source": [
    "Always keep in mind that such “variables” are actually `QuadraticModel` objects,"
   ]
  },
  {
   "cell_type": "code",
   "execution_count": 6,
   "metadata": {},
   "outputs": [
    {
     "data": {
      "text/plain": [
       "QuadraticModel({'rice': 1.0}, {}, 0.0, {'rice': 'REAL'}, dtype='float64')"
      ]
     },
     "execution_count": 6,
     "metadata": {},
     "output_type": "execute_result"
    }
   ],
   "source": [
    "quantities[0]"
   ]
  },
  {
   "cell_type": "code",
   "execution_count": 8,
   "metadata": {},
   "outputs": [
    {
     "name": "stdout",
     "output_type": "stream",
     "text": [
      "QuadraticModel({'rice': 2.0}, {}, 0.0, {'rice': 'REAL'}, dtype='float64')\n"
     ]
    }
   ],
   "source": [
    "print(2*quantities[0])"
   ]
  },
  {
   "cell_type": "code",
   "execution_count": 11,
   "metadata": {},
   "outputs": [
    {
     "ename": "ValueError",
     "evalue": "REAL variables (e.g. 'rice') cannot have interactions",
     "output_type": "error",
     "traceback": [
      "\u001b[0;31m---------------------------------------------------------------------------\u001b[0m",
      "\u001b[0;31mValueError\u001b[0m                                Traceback (most recent call last)",
      "\u001b[1;32m/home/samyaknj/Research/Playgrounds/Quantum-Annealer-Playground/Integer Linear Programming/Trial 2/DietPlanning.ipynb Cell 9\u001b[0m line \u001b[0;36m1\n\u001b[0;32m----> <a href='vscode-notebook-cell://ssh-remote%2Bopenlab.ics.uci.edu/home/samyaknj/Research/Playgrounds/Quantum-Annealer-Playground/Integer%20Linear%20Programming/Trial%202/DietPlanning.ipynb#X12sdnNjb2RlLXJlbW90ZQ%3D%3D?line=0'>1</a>\u001b[0m quantities[\u001b[39m0\u001b[39;49m] \u001b[39m*\u001b[39;49m quantities[\u001b[39m1\u001b[39;49m]\n",
      "File \u001b[0;32m~/.local/lib/python3.10/site-packages/dimod/quadratic/quadratic_model.py:252\u001b[0m, in \u001b[0;36mQuadraticModel.__mul__\u001b[0;34m(self, other)\u001b[0m\n\u001b[1;32m    250\u001b[0m                 \u001b[39mraise\u001b[39;00m \u001b[39mRuntimeError\u001b[39;00m(\u001b[39m\"\u001b[39m\u001b[39munexpected vartype\u001b[39m\u001b[39m\"\u001b[39m)\n\u001b[1;32m    251\u001b[0m         \u001b[39melse\u001b[39;00m:\n\u001b[0;32m--> 252\u001b[0m             new\u001b[39m.\u001b[39;49madd_quadratic(u, v, ubias \u001b[39m*\u001b[39;49m vbias)\n\u001b[1;32m    254\u001b[0m     new\u001b[39m.\u001b[39madd_linear(u, ubias \u001b[39m*\u001b[39m other_offset)\n\u001b[1;32m    256\u001b[0m \u001b[39mfor\u001b[39;00m v, bias \u001b[39min\u001b[39;00m other\u001b[39m.\u001b[39mlinear\u001b[39m.\u001b[39mitems():\n",
      "File \u001b[0;32m~/.local/lib/python3.10/site-packages/dimod/decorators.py:404\u001b[0m, in \u001b[0;36mforwarding_method.<locals>.wrapper\u001b[0;34m(obj, *args, **kwargs)\u001b[0m\n\u001b[1;32m    399\u001b[0m     \u001b[39mexcept\u001b[39;00m \u001b[39mTypeError\u001b[39;00m:\n\u001b[1;32m    400\u001b[0m         \u001b[39mraise\u001b[39;00m \u001b[39mTypeError\u001b[39;00m(\n\u001b[1;32m    401\u001b[0m             \u001b[39mf\u001b[39m\u001b[39m\"\u001b[39m\u001b[39mthe \u001b[39m\u001b[39m'\u001b[39m\u001b[39m__dict__\u001b[39m\u001b[39m'\u001b[39m\u001b[39m attribute of \u001b[39m\u001b[39m{\u001b[39;00m\u001b[39mtype\u001b[39m(obj)\u001b[39m.\u001b[39m\u001b[39m__name__\u001b[39m\u001b[39m!r}\u001b[39;00m\u001b[39m \u001b[39m\u001b[39m\"\u001b[39m\n\u001b[1;32m    402\u001b[0m             \u001b[39m\"\u001b[39m\u001b[39minstance does not support item assignment.\u001b[39m\u001b[39m\"\u001b[39m) \u001b[39mfrom\u001b[39;00m \u001b[39mNone\u001b[39m\n\u001b[0;32m--> 404\u001b[0m \u001b[39mreturn\u001b[39;00m method(\u001b[39m*\u001b[39;49margs, \u001b[39m*\u001b[39;49m\u001b[39m*\u001b[39;49mkwargs)\n",
      "File \u001b[0;32m~/.local/lib/python3.10/site-packages/dimod/quadratic/cyqm/cyqm_template.pyx.pxi:184\u001b[0m, in \u001b[0;36mdimod.quadratic.cyqm.cyqm_float64.cyQM_template.add_quadratic\u001b[0;34m()\u001b[0m\n",
      "File \u001b[0;32m~/.local/lib/python3.10/site-packages/dimod/quadratic/cyqm/cyqm_template.pyx.pxi:169\u001b[0m, in \u001b[0;36mdimod.quadratic.cyqm.cyqm_float64.cyQM_template._add_quadratic\u001b[0;34m()\u001b[0m\n",
      "\u001b[0;31mValueError\u001b[0m: REAL variables (e.g. 'rice') cannot have interactions"
     ]
    }
   ],
   "source": [
    "quantities[0] * quantities[1]"
   ]
  },
  {
   "cell_type": "markdown",
   "metadata": {},
   "source": [
    "Bounds on the range of values for non-binary variables shrink the solution space the solver must search, so it is helpful to set such bounds; for many problems, you can find bounds from your knowledge of the problem. In this case, no food by itself should be assigned a quantity that exceeds `max_calories`.\n"
   ]
  },
  {
   "cell_type": "code",
   "execution_count": 12,
   "metadata": {},
   "outputs": [],
   "source": [
    "for index, food in enumerate(foods.keys()):\n",
    "    upper_bound = max_calories / foods[food][\"Calories\"]\n",
    "    quantities[index].set_upper_bound(food, upper_bound)"
   ]
  },
  {
   "cell_type": "markdown",
   "metadata": {},
   "source": [
    "The maximum quantity of rice, for example, which here has 100 calories per portion, is 20 portions because 20 * 100 = 2000"
   ]
  },
  {
   "cell_type": "code",
   "execution_count": 13,
   "metadata": {},
   "outputs": [
    {
     "data": {
      "text/plain": [
       "20.0"
      ]
     },
     "execution_count": 13,
     "metadata": {},
     "output_type": "execute_result"
    }
   ],
   "source": [
    "quantities[0].upper_bound(\"rice\")"
   ]
  },
  {
   "cell_type": "markdown",
   "metadata": {},
   "source": [
    "Lower bounds are actually required in this problem for correct formulation: a valid mathematical solution might be to offset the calories of gorging on large numbers of tasty bananas by eating a negative amount of high-in-calories bread, so the formulation must include the impossibility of consuming negative quantities of food. Because Ocean sets a default value of zero for ~dimod.quadratic.Real variables, no explicit configuration is needed.\n",
    "\n"
   ]
  },
  {
   "cell_type": "markdown",
   "metadata": {},
   "source": [
    "You can now formulate an objective function and any constraints feasible solutions must meet, and set these in your CQM."
   ]
  },
  {
   "cell_type": "markdown",
   "metadata": {},
   "source": [
    "## Objective Function \n",
    "The objective function must maximize the taste of the diet plan while minimizing purchase cost. \n",
    "To maximise the taste and minimize the cost is to assign values to the variables that represtn quantities of each food, $q_{i}$, sucht that when multiplied by coefficients representing the cost, $c_{i}$, or taste $t_{i}$, of each food, form the liner terms of the following summations to be optimized: \n",
    "\n",
    "$\\min \\sum_{i} q_{i}c_{i}$ Minimize Cost <br>\n",
    "$\\max \\sum_{i} q_{i}t_{i}$ Maximize Taste <br>\n"
   ]
  },
  {
   "cell_type": "markdown",
   "metadata": {},
   "source": [
    "To optimize two differnt objectives, cost and taste, requires weighing on e against the other. A simpel way to do this, is to set priority weights. For example:\n",
    "\n",
    "$ objective = \\alpha(objective1) + \\beta(objective2) $\n",
    "\n",
    "By setting, for example $\\alpha = 2$ and $beta = 1$, you double the priority of the first objective compared to the second. "
   ]
  },
  {
   "cell_type": "markdown",
   "metadata": {},
   "source": [
    "#### Instantiate the CQM"
   ]
  },
  {
   "cell_type": "code",
   "execution_count": 14,
   "metadata": {},
   "outputs": [],
   "source": [
    "cqm = dimod.ConstrainedQuadraticModel()"
   ]
  },
  {
   "cell_type": "markdown",
   "metadata": {},
   "source": [
    "A utility function `total_mix` can be defined to calculate the summations for any given category such as calories"
   ]
  },
  {
   "cell_type": "code",
   "execution_count": 15,
   "metadata": {},
   "outputs": [],
   "source": [
    "def total_mix(quantity, category):\n",
    "    return sum(q * c for q, c in zip(quantity, (foods[food][category] for food in foods.keys())))"
   ]
  },
  {
   "cell_type": "markdown",
   "metadata": {},
   "source": [
    "## Set the Objective\n",
    "Because Ocean solvers minimize objectives, to maximize taste, Taste is multiplied by -1 and minimized.\n",
    "\n"
   ]
  },
  {
   "cell_type": "code",
   "execution_count": 16,
   "metadata": {},
   "outputs": [],
   "source": [
    "cqm.set_objective(-total_mix(quantities, \"Taste\") + 6*total_mix(quantities, \"Cost\"))"
   ]
  },
  {
   "cell_type": "markdown",
   "metadata": {},
   "source": [
    "### Constraints:\n",
    "1. Calories: no more than 2000\n",
    "2. Protein: at least 50 \n",
    "3. Fat: at least 30\n",
    "4. Carbs: at least 130\n",
    "5. Fiber: at least 30"
   ]
  },
  {
   "cell_type": "markdown",
   "metadata": {},
   "source": [
    "Constrain the diet's calorie intake to the require daily maximum"
   ]
  },
  {
   "cell_type": "code",
   "execution_count": 17,
   "metadata": {},
   "outputs": [
    {
     "data": {
      "text/plain": [
       "'Calories'"
      ]
     },
     "execution_count": 17,
     "metadata": {},
     "output_type": "execute_result"
    }
   ],
   "source": [
    "cqm.add_constraint(total_mix(quantities, \"Calories\") <= max_calories, label = \"Calories\")"
   ]
  },
  {
   "cell_type": "markdown",
   "metadata": {},
   "source": [
    "Require that the daily minimum of each nutrient is met or exceeded.\n"
   ]
  },
  {
   "cell_type": "code",
   "execution_count": 19,
   "metadata": {},
   "outputs": [],
   "source": [
    "for nutrient, amount in min_nutrients.items():\n",
    "    cqm.add_constraint(total_mix(quantities, nutrient) >= amount, label = nutrient)"
   ]
  },
  {
   "cell_type": "code",
   "execution_count": 20,
   "metadata": {},
   "outputs": [
    {
     "data": {
      "text/plain": [
       "['Calories', 'Protein', 'Fat', 'Carbs', 'Fiber']"
      ]
     },
     "execution_count": 20,
     "metadata": {},
     "output_type": "execute_result"
    }
   ],
   "source": [
    "list(cqm.constraints.keys())"
   ]
  },
  {
   "cell_type": "code",
   "execution_count": 21,
   "metadata": {},
   "outputs": [
    {
     "name": "stdout",
     "output_type": "stream",
     "text": [
      "100*rice + 140*tofu + 90*banana + 150*lentils + 270*bread + 300*avocado <= 2000.0\n"
     ]
    }
   ],
   "source": [
    "print(cqm.constraints[\"Calories\"].to_polystring())"
   ]
  },
  {
   "cell_type": "code",
   "execution_count": 22,
   "metadata": {},
   "outputs": [
    {
     "name": "stdout",
     "output_type": "stream",
     "text": [
      "3*rice + 17*tofu + banana + 9*lentils + 9*bread + 4*avocado >= 50.0\n"
     ]
    }
   ],
   "source": [
    "print(cqm.constraints[\"Protein\"].to_polystring())"
   ]
  },
  {
   "cell_type": "markdown",
   "metadata": {},
   "source": [
    "### Solve the Problem by Sampling\n",
    "Leap’s solvers can relieve you of the burden of any current and future development and optimization of hybrid algorithms that best solve your problem.\n",
    "\n",
    "Ocean software’s dwave-system LeapHybridCQMSampler class enables you to easily incorporate Leap’s hybrid CQM solvers into your application:"
   ]
  },
  {
   "cell_type": "code",
   "execution_count": 23,
   "metadata": {},
   "outputs": [],
   "source": [
    "from dwave.system import LeapHybridCQMSampler\n",
    "sampler = LeapHybridCQMSampler()"
   ]
  },
  {
   "cell_type": "code",
   "execution_count": 26,
   "metadata": {},
   "outputs": [
    {
     "name": "stdout",
     "output_type": "stream",
     "text": [
      "69 feasible solutions of 113.\n"
     ]
    }
   ],
   "source": [
    "sampleset = sampler.sample_cqm(cqm)\n",
    "feasible_sampleset = sampleset.filter(lambda row: row.is_feasible)\n",
    "print(\"{} feasible solutions of {}.\".format(len(feasible_sampleset), len(sampleset)))"
   ]
  },
  {
   "cell_type": "markdown",
   "metadata": {},
   "source": [
    "A utility function `print_diet` can be defined to display ther returned solutions in an intuitive way"
   ]
  },
  {
   "cell_type": "code",
   "execution_count": 34,
   "metadata": {},
   "outputs": [],
   "source": [
    "def print_diet(sample):\n",
    "    diet = {food: round(quantity, 1) for food, quantity in sample.items()}\n",
    "    print(f\"Diet: {diet}\")\n",
    "    taste_total = sum(foods[food][\"Taste\"] * amount for food, amount in sample.items())\n",
    "    cost_total = sum(foods[food][\"Cost\"] * amount for food, amount in sample.items())\n",
    "    print(f\"Total Taste of {round(taste_total, 2)} at Cost {round(cost_total, 2)}\")\n",
    "    for constraint in cqm.iter_constraint_data(sample):\n",
    "        print(f\"{constraint.label} (nominal: {constraint.rhs_energy}): {round(constraint.lhs_energy)}\")"
   ]
  },
  {
   "cell_type": "code",
   "execution_count": 35,
   "metadata": {},
   "outputs": [
    {
     "name": "stdout",
     "output_type": "stream",
     "text": [
      "Diet: {'avocado': 1.0, 'banana': 6.0, 'bread': 4.1, 'lentils': 0.3, 'rice': 0.0, 'tofu': 0.0}\n",
      "Total Taste of 86.56 at Cost 9.46\n",
      "Calories (nominal: 2000.0): 2000\n",
      "Protein (nominal: 50.0): 50\n",
      "Fat (nominal: 30.0): 42\n",
      "Carbs (nominal: 130.0): 372\n",
      "Fiber (nominal: 30.0): 46\n"
     ]
    }
   ],
   "source": [
    "best = feasible_sampleset.first.sample\n",
    "print_diet(best)"
   ]
  },
  {
   "cell_type": "markdown",
   "metadata": {},
   "source": [
    "## Tuning the Solution \n",
    "Consider sampling each part of the combined objective on its own (i.e. $\\alpha = 1$ and $\\beta = 0$ and $\\alpha = 0$ and $\\beta = 1$) and comparing the best solutions. Start with Taste:"
   ]
  },
  {
   "cell_type": "code",
   "execution_count": 36,
   "metadata": {},
   "outputs": [
    {
     "name": "stdout",
     "output_type": "stream",
     "text": [
      "-177\n"
     ]
    }
   ],
   "source": [
    "cqm.set_objective(-total_mix(quantities, \"Taste\"))\n",
    "sampleset_taste = sampler.sample_cqm(cqm)\n",
    "feasible_sampleset_taste = sampleset_taste.filter(lambda row: row.is_feasible)\n",
    "best_taste = feasible_sampleset_taste.first\n",
    "print(round(best_taste.energy))"
   ]
  },
  {
   "cell_type": "code",
   "execution_count": 37,
   "metadata": {},
   "outputs": [
    {
     "name": "stdout",
     "output_type": "stream",
     "text": [
      "Diet: {'avocado': 0.0, 'banana': 17.0, 'bread': 0.0, 'lentils': 0.0, 'rice': 0.0, 'tofu': 3.3}\n",
      "Total Taste of 176.93 at Cost 30.41\n",
      "Calories (nominal: 2000.0): 2000\n",
      "Protein (nominal: 50.0): 74\n",
      "Fat (nominal: 30.0): 30\n",
      "Carbs (nominal: 130.0): 402\n",
      "Fiber (nominal: 30.0): 58\n"
     ]
    }
   ],
   "source": [
    "print_diet(best_taste.sample)"
   ]
  },
  {
   "cell_type": "markdown",
   "metadata": {},
   "source": [
    "Now for cost:"
   ]
  },
  {
   "cell_type": "code",
   "execution_count": 38,
   "metadata": {},
   "outputs": [
    {
     "name": "stdout",
     "output_type": "stream",
     "text": [
      "3\n"
     ]
    }
   ],
   "source": [
    "cqm.set_objective(total_mix(quantities, \"Cost\"))\n",
    "sampleset_cost = sampler.sample_cqm(cqm)\n",
    "feasible_sampleset_cost = sampleset_cost.filter(lambda row: row.is_feasible)\n",
    "best_cost = feasible_sampleset_cost.first\n",
    "print(round(best_cost.energy))"
   ]
  },
  {
   "cell_type": "code",
   "execution_count": 39,
   "metadata": {},
   "outputs": [
    {
     "name": "stdout",
     "output_type": "stream",
     "text": [
      "Diet: {'avocado': 1.0, 'banana': 0.0, 'bread': 5.3, 'lentils': 0.0, 'rice': 0.0, 'tofu': 0.0}\n",
      "Total Taste of 31.67 at Cost 3.33\n",
      "Calories (nominal: 2000.0): 1740\n",
      "Protein (nominal: 50.0): 52\n",
      "Fat (nominal: 30.0): 46\n",
      "Carbs (nominal: 130.0): 287\n",
      "Fiber (nominal: 30.0): 30\n"
     ]
    }
   ],
   "source": [
    "print_diet(best_cost.sample)"
   ]
  },
  {
   "cell_type": "markdown",
   "metadata": {},
   "source": [
    "Because of the differences in energy scale between the two parts of the combined objective, , if you do not multiply the part representing cost by some positive factor, optimal solutions will maximize taste and neglect cost. That is, if in  you set set , solutions will likely be close or identical to those found when optimizing for taste alone."
   ]
  },
  {
   "cell_type": "code",
   "execution_count": 40,
   "metadata": {},
   "outputs": [
    {
     "name": "stdout",
     "output_type": "stream",
     "text": [
      "-147\n"
     ]
    }
   ],
   "source": [
    "cqm.set_objective(-total_mix(quantities, \"Taste\") + 1 * total_mix(quantities, \"Cost\"))\n",
    "sampleset = sampler.sample_cqm(cqm)\n",
    "feasible_sampleset = sampleset.filter(lambda row: row.is_feasible)\n",
    "best = feasible_sampleset.first\n",
    "print(round(best.energy))"
   ]
  },
  {
   "cell_type": "code",
   "execution_count": 43,
   "metadata": {},
   "outputs": [
    {
     "name": "stdout",
     "output_type": "stream",
     "text": [
      "Diet: {'avocado': 0.0, 'banana': 17.0, 'bread': 0.0, 'lentils': 0.0, 'rice': 0.0, 'tofu': 3.3}\n",
      "Total Taste of 176.93 at Cost 30.41\n",
      "Calories (nominal: 2000.0): 2000\n",
      "Protein (nominal: 50.0): 74\n",
      "Fat (nominal: 30.0): 30\n",
      "Carbs (nominal: 130.0): 402\n",
      "Fiber (nominal: 30.0): 58\n"
     ]
    }
   ],
   "source": [
    "print_diet(best.sample)"
   ]
  },
  {
   "cell_type": "markdown",
   "metadata": {},
   "source": [
    "Compare the best solutions found when optimizing for taste and cost alone. Notice that to reduce 27 units of cost () in the latter solution, taste was decreased by 145 (), for a ratio of . To give each part of the combined objective a similar weighting, the Objective Function section above multiplied the part of the objective that minimizes cost by a factor of .\n",
    "\n",
    "For low () ratios of \n",
    " \n",
    " solutions are optimized for taste alone; for high ratios () solutions are optimized for cost. The relationship between this ratio and the weightings of the two parts of the combined optimization is non-linear, so while you can use such reasoning as was done above to find a starting point for “good” relative weightings, typically you need to experiment.\n",
    "\n",
    "Notice that in all the previous solutions, the resulting diet relied on only two or three foods. If the dieter wants a more diverse diet, you can enforce that by setting appropriate bounds on the variables (or, equivalently, adding constraints on minimum/maximum quantities of each food)."
   ]
  },
  {
   "cell_type": "code",
   "execution_count": 46,
   "metadata": {},
   "outputs": [
    {
     "ename": "ValueError",
     "evalue": "conflicting lower bounds: 'rice'",
     "output_type": "error",
     "traceback": [
      "\u001b[0;31m---------------------------------------------------------------------------\u001b[0m",
      "\u001b[0;31mValueError\u001b[0m                                Traceback (most recent call last)",
      "\u001b[1;32m/home/samyaknj/Research/Playgrounds/Quantum-Annealer-Playground/Integer Linear Programming/Trial 2/DietPlanning.ipynb Cell 48\u001b[0m line \u001b[0;36m1\n\u001b[0;32m----> <a href='vscode-notebook-cell://ssh-remote%2Bopenlab.ics.uci.edu/home/samyaknj/Research/Playgrounds/Quantum-Annealer-Playground/Integer%20Linear%20Programming/Trial%202/DietPlanning.ipynb#Y102sdnNjb2RlLXJlbW90ZQ%3D%3D?line=0'>1</a>\u001b[0m cqm\u001b[39m.\u001b[39;49mset_objective(\u001b[39m-\u001b[39;49mtotal_mix(quantities, \u001b[39m\"\u001b[39;49m\u001b[39mTaste\u001b[39;49m\u001b[39m\"\u001b[39;49m) \u001b[39m+\u001b[39;49m \u001b[39m6\u001b[39;49m\u001b[39m*\u001b[39;49mtotal_mix(quantities, \u001b[39m\"\u001b[39;49m\u001b[39mCost\u001b[39;49m\u001b[39m\"\u001b[39;49m))\n\u001b[1;32m      <a href='vscode-notebook-cell://ssh-remote%2Bopenlab.ics.uci.edu/home/samyaknj/Research/Playgrounds/Quantum-Annealer-Playground/Integer%20Linear%20Programming/Trial%202/DietPlanning.ipynb#Y102sdnNjb2RlLXJlbW90ZQ%3D%3D?line=1'>2</a>\u001b[0m \u001b[39mfor\u001b[39;00m variable \u001b[39min\u001b[39;00m cqm\u001b[39m.\u001b[39mvariables:\n\u001b[1;32m      <a href='vscode-notebook-cell://ssh-remote%2Bopenlab.ics.uci.edu/home/samyaknj/Research/Playgrounds/Quantum-Annealer-Playground/Integer%20Linear%20Programming/Trial%202/DietPlanning.ipynb#Y102sdnNjb2RlLXJlbW90ZQ%3D%3D?line=2'>3</a>\u001b[0m     cqm\u001b[39m.\u001b[39mset_lower_bound(variable, \u001b[39m1\u001b[39m)\n",
      "File \u001b[0;32m~/.local/lib/python3.10/site-packages/dimod/constrained/cyconstrained.pyx:459\u001b[0m, in \u001b[0;36mdimod.constrained.cyconstrained.cyConstrainedQuadraticModel.set_objective\u001b[0;34m()\u001b[0m\n",
      "File \u001b[0;32m~/.local/lib/python3.10/site-packages/dimod/constrained/cyconstrained.pyx:413\u001b[0m, in \u001b[0;36mdimod.constrained.cyconstrained.cyConstrainedQuadraticModel._set_objective_from_cyqm\u001b[0;34m()\u001b[0m\n",
      "\u001b[0;31mValueError\u001b[0m: conflicting lower bounds: 'rice'"
     ]
    }
   ],
   "source": [
    "cqm.set_objective(-total_mix(quantities, \"Taste\") + 6*total_mix(quantities, \"Cost\"))\n",
    "for variable in cqm.variables:\n",
    "    cqm.set_lower_bound(variable, 1)\n",
    "sampleset_diverse = sampler.sample_cqm(cqm)\n",
    "feasible_sampleset_diverse = sampleset_diverse.filter(lambda row: row.is_feasible)\n",
    "best_diverse = feasible_sampleset_diverse.first.sample\n",
    "print_diet(best_diverse)"
   ]
  },
  {
   "cell_type": "code",
   "execution_count": null,
   "metadata": {},
   "outputs": [],
   "source": []
  },
  {
   "cell_type": "code",
   "execution_count": null,
   "metadata": {},
   "outputs": [],
   "source": []
  }
 ],
 "metadata": {
  "kernelspec": {
   "display_name": "ocean",
   "language": "python",
   "name": "ocean"
  },
  "language_info": {
   "codemirror_mode": {
    "name": "ipython",
    "version": 3
   },
   "file_extension": ".py",
   "mimetype": "text/x-python",
   "name": "python",
   "nbconvert_exporter": "python",
   "pygments_lexer": "ipython3",
   "version": "3.10.6"
  },
  "orig_nbformat": 4
 },
 "nbformat": 4,
 "nbformat_minor": 2
}
