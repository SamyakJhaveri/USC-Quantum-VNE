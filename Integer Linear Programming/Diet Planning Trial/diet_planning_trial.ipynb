{
 "cells": [
  {
   "cell_type": "code",
   "execution_count": 1,
   "metadata": {},
   "outputs": [],
   "source": [
    "import dimod\n",
    "from dimod import Integer, Binary\n",
    "import networkx as nx\n",
    "from matplotlib import pyplot as plt\n",
    "import random"
   ]
  },
  {
   "cell_type": "code",
   "execution_count": 2,
   "metadata": {},
   "outputs": [],
   "source": [
    "foods = {\n",
    "    'rice': {'Calories': 100, 'Protein': 3, 'Fat': 1, 'Carbs': 22, 'Fiber': 2, 'Taste': 7, 'Cost': 2.5, 'Units':'continuous'},\n",
    "    'tofu': {'Calories': 140, 'Protein': 17, 'Fat': 9, 'Carbs': 3, 'Fiber': 2,\n",
    "           'Taste': 2, 'Cost': 4.0, 'Units': 'continuous'},\n",
    "  'banana': {'Calories': 90, 'Protein': 1, 'Fat': 0, 'Carbs': 23, 'Fiber': 3,\n",
    "             'Taste': 10, 'Cost': 1.0, 'Units': 'discrete'},\n",
    "  'lentils': {'Calories': 150, 'Protein': 9, 'Fat': 0, 'Carbs': 25, 'Fiber': 4,\n",
    "              'Taste': 3, 'Cost': 1.3, 'Units': 'continuous'},\n",
    "  'bread': {'Calories': 270, 'Protein': 9, 'Fat': 3, 'Carbs': 50, 'Fiber': 3,\n",
    "            'Taste': 5, 'Cost': 0.25, 'Units': 'continuous'},\n",
    "  'avocado': {'Calories': 300, 'Protein': 4, 'Fat': 30, 'Carbs': 20, 'Fiber': 14,\n",
    "              'Taste': 5, 'Cost': 2.0, 'Units': 'discrete'}}"
   ]
  },
  {
   "cell_type": "code",
   "execution_count": 3,
   "metadata": {},
   "outputs": [],
   "source": [
    "min_nutrients = {'Protein': 50, 'Fat': 30, 'Carbs': 130, 'Fiber': 30}\n",
    "max_calories = 2000"
   ]
  },
  {
   "cell_type": "markdown",
   "metadata": {},
   "source": [
    "### Variables\n",
    "Instantiating some real and integer variables in a list `quantities`, that in the solutions will be assigned values for the selected quantities of every availbale food. "
   ]
  },
  {
   "cell_type": "code",
   "execution_count": 4,
   "metadata": {},
   "outputs": [],
   "source": [
    "quantities = [dimod.Real(f\"{food}\") if foods[food]['Units'] == 'continuous' \n",
    "                                    else dimod.Integer(f\"{food}\")\n",
    "                                    for food in foods.keys()]"
   ]
  },
  {
   "cell_type": "markdown",
   "metadata": {},
   "source": [
    "such 'variables; are quadratic model objects"
   ]
  },
  {
   "cell_type": "code",
   "execution_count": 18,
   "metadata": {},
   "outputs": [
    {
     "name": "stdout",
     "output_type": "stream",
     "text": [
      "QuadraticModel({'rice': 1.0}, {}, 0.0, {'rice': 'REAL'}, dtype='float64')\n"
     ]
    }
   ],
   "source": [
    "print(quantities[0])"
   ]
  },
  {
   "cell_type": "code",
   "execution_count": 6,
   "metadata": {},
   "outputs": [
    {
     "name": "stdout",
     "output_type": "stream",
     "text": [
      "QuadraticModel({'banana': 1.0}, {}, 0.0, {'banana': 'INTEGER'}, dtype='float64')\n"
     ]
    }
   ],
   "source": [
    "print(quantities[2])"
   ]
  },
  {
   "cell_type": "markdown",
   "metadata": {},
   "source": [
    "Bounds on the range of values for non-binary variables shrink the solution space the solver must search, so it is helpful to set such bounds; for many problems, you can find bounds from your knowledge of the problem. In this case, no food by itself should be assigned a quantity that exceeds max_calories."
   ]
  },
  {
   "cell_type": "code",
   "execution_count": 7,
   "metadata": {},
   "outputs": [],
   "source": [
    "for index, food in enumerate(foods.keys()):\n",
    "    upper_bound = max_calories / foods[food][\"Calories\"]\n",
    "    quantities[index].set_upper_bound(food, upper_bound)"
   ]
  },
  {
   "cell_type": "code",
   "execution_count": 8,
   "metadata": {},
   "outputs": [
    {
     "data": {
      "text/plain": [
       "20.0"
      ]
     },
     "execution_count": 8,
     "metadata": {},
     "output_type": "execute_result"
    }
   ],
   "source": [
    "quantities[0].upper_bound('rice')"
   ]
  },
  {
   "cell_type": "markdown",
   "metadata": {},
   "source": [
    "Lower bounds are actually required in this problem for correct formulation: a valid mathematical solution might be to offset the calories of gorging on large numbers of tasty bananas by eating a negative amount of high-in-calories bread, so the formulation must include the impossibility of consuming negative quantities of food. Because Ocean sets a default value of zero for ~dimod.quadratic.Real variables, no explicit configuration is needed."
   ]
  },
  {
   "cell_type": "markdown",
   "metadata": {},
   "source": [
    "## Objective Function"
   ]
  },
  {
   "cell_type": "markdown",
   "metadata": {},
   "source": [
    "The objective function must maximize taste of the diet’s foods while minimizing purchase cost.\n",
    "\n",
    "To maximize taste and minimize cost is to assign values to the variables that represent quantities of each food, \n",
    ", such that when multiplied by coefficients representing the cost, \n",
    ", or taste, \n",
    ", of each food, form the linear terms of the following summations to be optimized:\n"
   ]
  },
  {
   "cell_type": "markdown",
   "metadata": {},
   "source": [
    "Instantiate the CQM"
   ]
  },
  {
   "cell_type": "code",
   "execution_count": 9,
   "metadata": {},
   "outputs": [],
   "source": [
    "cqm = dimod.ConstrainedQuadraticModel()"
   ]
  },
  {
   "cell_type": "markdown",
   "metadata": {},
   "source": [
    "define `total_mix` to calculate the summations for any given category such as calories"
   ]
  },
  {
   "cell_type": "code",
   "execution_count": 10,
   "metadata": {},
   "outputs": [],
   "source": [
    "def total_mix(quantity, category):\n",
    "    return sum(q * c for q, c, in zip(quantity, (foods[food][category] for food in foods.keys())))"
   ]
  },
  {
   "cell_type": "markdown",
   "metadata": {},
   "source": [
    "Set the objective. because Ocean solvers minimize objectives to maximize taste `Taste` is multiplied by -1"
   ]
  },
  {
   "cell_type": "code",
   "execution_count": 11,
   "metadata": {},
   "outputs": [],
   "source": [
    "cqm.set_objective(-total_mix(quantities, 'Taste') + 6*total_mix(quantities, 'Cost'))"
   ]
  },
  {
   "cell_type": "markdown",
   "metadata": {},
   "source": [
    "Here is $\\alpha$ is chosen as -1 and $\\beta$ is chosen as 6 through tuning the solution "
   ]
  },
  {
   "cell_type": "markdown",
   "metadata": {},
   "source": [
    "## Constraints\n",
    "The problem has the following constraints:\n",
    "1. Calories: no more than 2000\n",
    "2. Protein: at least 50\n",
    "3. Fat: at least 30\n",
    "4. Carbs: at least 130\n",
    "5. Fiber: at least 30"
   ]
  },
  {
   "cell_type": "code",
   "execution_count": 12,
   "metadata": {},
   "outputs": [
    {
     "data": {
      "text/plain": [
       "'Calories'"
      ]
     },
     "execution_count": 12,
     "metadata": {},
     "output_type": "execute_result"
    }
   ],
   "source": [
    "cqm.add_constraint(total_mix(quantities, 'Calories') <= max_calories, label='Calories')"
   ]
  },
  {
   "cell_type": "markdown",
   "metadata": {},
   "source": [
    "Require that the daily minimum of each nutrient is met or exceeded"
   ]
  },
  {
   "cell_type": "code",
   "execution_count": 13,
   "metadata": {},
   "outputs": [],
   "source": [
    "for nutrient, amount in min_nutrients.items():\n",
    "    cqm.add_constraint(total_mix(quantities, nutrient) >= amount, label=nutrient)"
   ]
  },
  {
   "cell_type": "markdown",
   "metadata": {},
   "source": [
    "These constraints can be accessed as a dictionary with the labels as keys"
   ]
  },
  {
   "cell_type": "code",
   "execution_count": 14,
   "metadata": {},
   "outputs": [
    {
     "data": {
      "text/plain": [
       "['Calories', 'Protein', 'Fat', 'Carbs', 'Fiber']"
      ]
     },
     "execution_count": 14,
     "metadata": {},
     "output_type": "execute_result"
    }
   ],
   "source": [
    "list(cqm.constraints.keys())"
   ]
  },
  {
   "cell_type": "code",
   "execution_count": 15,
   "metadata": {},
   "outputs": [
    {
     "name": "stdout",
     "output_type": "stream",
     "text": [
      "100*rice + 140*tofu + 90*banana + 150*lentils + 270*bread + 300*avocado <= 2000.0\n"
     ]
    }
   ],
   "source": [
    "print(cqm.constraints['Calories'].to_polystring())"
   ]
  },
  {
   "cell_type": "code",
   "execution_count": 16,
   "metadata": {},
   "outputs": [
    {
     "name": "stdout",
     "output_type": "stream",
     "text": [
      "3*rice + 17*tofu + banana + 9*lentils + 9*bread + 4*avocado >= 50.0\n"
     ]
    }
   ],
   "source": [
    "print(cqm.constraints['Protein'].to_polystring())"
   ]
  },
  {
   "cell_type": "markdown",
   "metadata": {},
   "source": [
    "### Solve the Problem by Solving"
   ]
  },
  {
   "cell_type": "code",
   "execution_count": 19,
   "metadata": {},
   "outputs": [],
   "source": [
    "from dwave.system import LeapHybridCQMSampler\n",
    "sampler = LeapHybridCQMSampler()"
   ]
  },
  {
   "cell_type": "code",
   "execution_count": 20,
   "metadata": {},
   "outputs": [
    {
     "name": "stdout",
     "output_type": "stream",
     "text": [
      "72 feasible solutions of 112.\n"
     ]
    }
   ],
   "source": [
    "sampleset = sampler.sample_cqm(cqm)\n",
    "feasible_sampleset = sampleset.filter(lambda row: row.is_feasible)\n",
    "print(\"{} feasible solutions of {}.\".format(len(feasible_sampleset), len(sampleset)))"
   ]
  },
  {
   "cell_type": "markdown",
   "metadata": {},
   "source": [
    "Defining a utility function, `print_diet` to print the returned solujtions in an intuitive format"
   ]
  },
  {
   "cell_type": "code",
   "execution_count": 21,
   "metadata": {},
   "outputs": [],
   "source": [
    "def print_diet(sample):\n",
    "    diet = {food: round(quantity, 1) for food, quantity in sample.items()}\n",
    "    print(f\"Diet: {diet}\")\n",
    "    taste_total = sum(foods[food]['Taste'] * amount for food, amount in sample.items())\n",
    "    cost_total = sum(foods[food]['Cost'] * amount for food, amount in sample.items())\n",
    "    print(f\"Total Taste of {round(taste_total, 2)} at Cost ${round(cost_total, 2)}\")\n",
    "    for constraint in cqm.iter_constraint_data(sample):\n",
    "        print(f\"{constraint.label} (nominal: {constraint.rhs_energy}) : {round(constraint.lhs_energy)}\")"
   ]
  },
  {
   "cell_type": "code",
   "execution_count": 22,
   "metadata": {},
   "outputs": [
    {
     "name": "stdout",
     "output_type": "stream",
     "text": [
      "Diet: {'avocado': 1.0, 'banana': 6.0, 'bread': 4.1, 'lentils': 0.3, 'rice': 0.0, 'tofu': 0.0}\n",
      "Total Taste of 86.56 at Cost $9.46\n",
      "Calories (nominal: 2000.0) : 2000\n",
      "Protein (nominal: 50.0) : 50\n",
      "Fat (nominal: 30.0) : 42\n",
      "Carbs (nominal: 130.0) : 372\n",
      "Fiber (nominal: 30.0) : 46\n"
     ]
    }
   ],
   "source": [
    "best = feasible_sampleset.first.sample\n",
    "print_diet(best)"
   ]
  },
  {
   "cell_type": "code",
   "execution_count": null,
   "metadata": {},
   "outputs": [],
   "source": []
  }
 ],
 "metadata": {
  "kernelspec": {
   "display_name": "ocean",
   "language": "python",
   "name": "ocean"
  },
  "language_info": {
   "codemirror_mode": {
    "name": "ipython",
    "version": 3
   },
   "file_extension": ".py",
   "mimetype": "text/x-python",
   "name": "python",
   "nbconvert_exporter": "python",
   "pygments_lexer": "ipython3",
   "version": "3.10.12"
  }
 },
 "nbformat": 4,
 "nbformat_minor": 2
}
