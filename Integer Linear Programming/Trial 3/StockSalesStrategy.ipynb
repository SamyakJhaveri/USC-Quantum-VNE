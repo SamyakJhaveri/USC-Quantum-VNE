{
 "cells": [
  {
   "cell_type": "markdown",
   "metadata": {},
   "source": [
    "# Stock-Sales Strategy for a Simplified Market\n",
    "This example finds a stock-selling strategy for a simplified market model to demonstrate using a Leap hybrid CQM solver on a constrained problem with integer and binary variables."
   ]
  },
  {
   "cell_type": "markdown",
   "metadata": {},
   "source": [
    "In this very simple market, you have some number of shares that you want to sell in daily blocks over a defined interval of days. <br>\n",
    "Each sale of shares affects the market price of the stock, <br>\n",
    "$ p_{i} = p_{i - 1} + \\alpha s_{i - 1} $ <br>\n",
    "where $ p_{i}$ and $s_{i}$ are, respectively, the price and the number of shares sold on day $i$, and $\\alpha$ is some multiplier.\n",
    "The goal of this problem is to find the optimal number of shares to sell per day to maximize revenue from the total sales.\n",
    "\n",
    "The Market with Taxation section adds a tax to the market model to demonstrate the incorporation of binary variables into the CQM."
   ]
  },
  {
   "cell_type": "code",
   "execution_count": 2,
   "metadata": {},
   "outputs": [],
   "source": [
    "import dimod"
   ]
  },
  {
   "cell_type": "markdown",
   "metadata": {},
   "source": [
    "## Formulate the Problem\n",
    "First, define the market parameters:\n",
    "- `max_days` is the period over which you should sell all your shares\n",
    "- `total_shares` is the nuymber of shares you own (equal to $\\sum_{i}s_{i}$)\n",
    "- `price_day_0` is the stock price on the first day of the period\n",
    "- `alpha` is a multiplier, $\\alpha$, that controls how much the stock price increases for each share sold into the market"
   ]
  },
  {
   "cell_type": "code",
   "execution_count": 3,
   "metadata": {},
   "outputs": [],
   "source": [
    "max_days = 10\n",
    "total_shares = 100\n",
    "price_day_0 = 50\n",
    "alpha = 1"
   ]
  },
  {
   "cell_type": "markdown",
   "metadata": {},
   "source": [
    "## Instantiate the CQM"
   ]
  },
  {
   "cell_type": "code",
   "execution_count": 4,
   "metadata": {},
   "outputs": [],
   "source": [
    "from dimod import ConstrainedQuadraticModel\n",
    "cqm = ConstrainedQuadraticModel()"
   ]
  },
  {
   "cell_type": "markdown",
   "metadata": {},
   "source": [
    "## Formulating the Objective Function\n",
    "The objective function to maximize is the revenue from selling shares. Because you own an integer number of shares, it is convenient to use integer variables to indicate the number of shares sold each day, `shares`. For simplicity, this model assumes stock prices, `price`, are also integers."
   ]
  },
  {
   "cell_type": "markdown",
   "metadata": {},
   "source": [
    "Bounds on the range of values for integer variables shrink the solution space the solver must search, so it is helpful to set such bounds; for many problems, you can find bounds from your knowledge of the problem. In this case,\n",
    "\n",
    "- On any day, you cannot sell more than the total number of shares you start with.\n",
    "- The maximum share price is the sum of the initial price and the total price increase that would result from selling all your shares. <br>\n",
    "$ \\max(p) = p_{0} + \\alpha * \\sum_{i}s_{i} $"
   ]
  },
  {
   "cell_type": "code",
   "execution_count": 5,
   "metadata": {},
   "outputs": [],
   "source": [
    "from dimod import Integer\n",
    "max_p = price_day_0 + alpha*total_shares\n",
    "shares = [Integer(f'(s_{i}', upper_bound = total_shares) for i in range(max_days)]\n",
    "price = [Integer(f'p_{i}', upper_bound = max_p) for i in range(max_days)]"
   ]
  },
  {
   "cell_type": "markdown",
   "metadata": {},
   "source": [
    "Daily revenue is the number of shares sold multiplied by the price on each sales day"
   ]
  },
  {
   "cell_type": "code",
   "execution_count": 6,
   "metadata": {},
   "outputs": [],
   "source": [
    "revenue = [s*p for s, p in zip(shares, price)]\n"
   ]
  },
  {
   "cell_type": "markdown",
   "metadata": {},
   "source": [
    "To maximise total revenue, $\\sum_{i} s_{i}p_{i}$, is to minimize the negative of that same revenue:"
   ]
  },
  {
   "cell_type": "code",
   "execution_count": 7,
   "metadata": {},
   "outputs": [],
   "source": [
    "cqm.set_objective(-sum(revenue))"
   ]
  },
  {
   "cell_type": "code",
   "execution_count": 8,
   "metadata": {},
   "outputs": [
    {
     "data": {
      "text/plain": [
       "QuadraticModel({'(s_0': 0.0, 'p_0': 0.0}, {('p_0', '(s_0'): 1.0}, 0.0, {'(s_0': 'INTEGER', 'p_0': 'INTEGER'}, dtype='float64')"
      ]
     },
     "execution_count": 8,
     "metadata": {},
     "output_type": "execute_result"
    }
   ],
   "source": [
    "revenue[0]"
   ]
  },
  {
   "cell_type": "markdown",
   "metadata": {},
   "source": [
    "### Constraints"
   ]
  },
  {
   "cell_type": "markdown",
   "metadata": {},
   "source": [
    "The simplified market has the following constraints: \n",
    "1. In total, you can sell only the number of shares you own, no more, $\\sum_{i} s_{i} < total\\_shares$"
   ]
  },
  {
   "cell_type": "code",
   "execution_count": 9,
   "metadata": {},
   "outputs": [
    {
     "data": {
      "text/plain": [
       "'Sell only sahres you own'"
      ]
     },
     "execution_count": 9,
     "metadata": {},
     "output_type": "execute_result"
    }
   ],
   "source": [
    "cqm.add_constraint(sum(shares) <= total_shares, label = 'Sell only sahres you own')\n"
   ]
  },
  {
   "cell_type": "markdown",
   "metadata": {},
   "source": [
    "2. on the first day of the selling period, the stock has aparticular price $p_{0} = price_day_0$\n"
   ]
  },
  {
   "cell_type": "code",
   "execution_count": 10,
   "metadata": {},
   "outputs": [
    {
     "data": {
      "text/plain": [
       "'Initial Share Price'"
      ]
     },
     "execution_count": 10,
     "metadata": {},
     "output_type": "execute_result"
    }
   ],
   "source": [
    "cqm.add_constraint(price[0] == price_day_0, label = 'Initial Share Price')\n"
   ]
  },
  {
   "cell_type": "markdown",
   "metadata": {},
   "source": [
    "3. The stock price increases in proportion to the number of shares sold the previous day:\n",
    "$p_{i} = p_{i - 1} + \\alpha s_{i - 1}$"
   ]
  },
  {
   "cell_type": "code",
   "execution_count": 11,
   "metadata": {},
   "outputs": [],
   "source": [
    "for i in range(1, max_days):\n",
    "    pricing = cqm.add_constraint(price[i] - price[i - 1] - alpha*shares[i - 1] == 0, label = f'Sell at the price on day {i}')"
   ]
  },
  {
   "cell_type": "markdown",
   "metadata": {},
   "source": [
    "For a sales period of ten days, this CQM has altogether 10 constrtaints"
   ]
  },
  {
   "cell_type": "code",
   "execution_count": 12,
   "metadata": {},
   "outputs": [
    {
     "data": {
      "text/plain": [
       "11"
      ]
     },
     "execution_count": 12,
     "metadata": {},
     "output_type": "execute_result"
    }
   ],
   "source": [
    "len(cqm.constraints)"
   ]
  },
  {
   "cell_type": "markdown",
   "metadata": {},
   "source": [
    "## Solve the problem by sampling"
   ]
  },
  {
   "cell_type": "code",
   "execution_count": 13,
   "metadata": {},
   "outputs": [],
   "source": [
    "from dwave.system import LeapHybridCQMSampler\n",
    "sampler = LeapHybridCQMSampler()"
   ]
  },
  {
   "cell_type": "code",
   "execution_count": 14,
   "metadata": {},
   "outputs": [
    {
     "data": {
      "text/plain": [
       "'hybrid_constrained_quadratic_model_version1p'"
      ]
     },
     "execution_count": 14,
     "metadata": {},
     "output_type": "execute_result"
    }
   ],
   "source": [
    "sampler.solver.name"
   ]
  },
  {
   "cell_type": "markdown",
   "metadata": {},
   "source": [
    "maximum allowed time is set for one minute"
   ]
  },
  {
   "cell_type": "code",
   "execution_count": 15,
   "metadata": {},
   "outputs": [
    {
     "name": "stdout",
     "output_type": "stream",
     "text": [
      "108 feasible solutions of 132.\n"
     ]
    }
   ],
   "source": [
    "sampleset = sampler.sample_cqm(cqm, \n",
    "                                time_limit = 60, \n",
    "                                label = \"Sam Stock Sales Strategy\")\n",
    "print(\"{} feasible solutions of {}.\".format(\n",
    "    sampleset.record.is_feasible.sum(), len(sampleset)))"
   ]
  },
  {
   "cell_type": "markdown",
   "metadata": {},
   "source": [
    "The function below extracts from the returned sampleset te best feasible solution and parses it. "
   ]
  },
  {
   "cell_type": "code",
   "execution_count": 16,
   "metadata": {},
   "outputs": [],
   "source": [
    "def parse_best(sampleset):\n",
    "    best = sampleset.filter(lambda row: row.is_feasible).first\n",
    "    s = [val for key, val in best.sample.items() if \"s_\" in key]\n",
    "    p = [val for key, val in best.sample.items() if \"p_\" in key]\n",
    "    r = [p*s for p, s in zip(p, s)]\n",
    "    return  r, s, best"
   ]
  },
  {
   "cell_type": "markdown",
   "metadata": {},
   "source": [
    "Parse and print the best feasible solution"
   ]
  },
  {
   "cell_type": "code",
   "execution_count": 17,
   "metadata": {},
   "outputs": [
    {
     "name": "stdout",
     "output_type": "stream",
     "text": [
      "Revenue of 9499.0 found for daily sales of: \n",
      "[10.0, 10.0, 10.0, 10.0, 10.0, 10.0, 10.0, 11.0, 9.0, 10.0]\n"
     ]
    }
   ],
   "source": [
    "r, s, _ = parse_best(sampleset)\n",
    "print(\"Revenue of {} found for daily sales of: \\n{}\".format(sum(r), s))"
   ]
  },
  {
   "cell_type": "markdown",
   "metadata": {},
   "source": [
    "## Market with Taxation\n",
    "Quadratic models can also accept binary variables. In the formulatio below, the market is taxed on early sals and uses a binmary variable to incorporate that update into the CQM created in the previosu sections. \n",
    "Consider a market in which you pat a tax in amount, `tax_payment`, fopr selling shares dfuring the first `taxed_period` days of the period in which you can sell your shares. "
   ]
  },
  {
   "cell_type": "code",
   "execution_count": 21,
   "metadata": {},
   "outputs": [],
   "source": [
    "taxed_period = 3\n",
    "tax_payment = 225"
   ]
  },
  {
   "cell_type": "markdown",
   "metadata": {},
   "source": [
    "Because you either pay tax or you don't,it can use binary variable `t`, to indicate payment. The previous objective can be updated by reducing the revenue form the share sales by the tax payment amount if the `t` binary variable is 1:"
   ]
  },
  {
   "cell_type": "code",
   "execution_count": 22,
   "metadata": {},
   "outputs": [],
   "source": [
    "from dimod import Binary\n",
    "t = Binary('t')\n",
    "cqm.set_objective(tax_payment*t - sum(revenue))"
   ]
  },
  {
   "cell_type": "markdown",
   "metadata": {},
   "source": [
    "Binary variable, `t`, should be True (1) if sales in the first `taxed_period` days of the period are greater than zero; otherwise it should be False(0): <br>\n",
    "$\\sum_{i<taxed\\_period} s_{i} > 0 \\rightarrow t = 1 $ <br>\n",
    "$\\sum_{i<taxed\\_period} s_{i} = 0 \\rightarrow t = 0 $ <br>\n"
   ]
  },
  {
   "cell_type": "markdown",
   "metadata": {},
   "source": [
    "One way to set such an indicator variable is to create a pair of linear constraints: <br>\n",
    "$ \\frac{\\sum_{i < taxed\\_period} s_{i}}{\\sum_{i} s_{i}} \\leq t \\leq \\sum_{i < taxed\\_period} s_{i} $"
   ]
  },
  {
   "cell_type": "markdown",
   "metadata": {},
   "source": [
    "Adding these two constraints to the previously created CQM"
   ]
  },
  {
   "cell_type": "code",
   "execution_count": 25,
   "metadata": {},
   "outputs": [
    {
     "data": {
      "text/plain": [
       "'Tax Part 1'"
      ]
     },
     "execution_count": 25,
     "metadata": {},
     "output_type": "execute_result"
    }
   ],
   "source": [
    "cqm.add_constraint(t - sum(shares[:taxed_period]) <= 0, label = \"Tax Part 1\")"
   ]
  },
  {
   "cell_type": "code",
   "execution_count": 26,
   "metadata": {},
   "outputs": [
    {
     "data": {
      "text/plain": [
       "'Tax Part 2'"
      ]
     },
     "execution_count": 26,
     "metadata": {},
     "output_type": "execute_result"
    }
   ],
   "source": [
    "cqm.add_constraint(1 / total_shares*sum(shares[:taxed_period]) - t <= 0, label = \"Tax Part 2\")\n"
   ]
  },
  {
   "cell_type": "markdown",
   "metadata": {},
   "source": [
    "Submit the CQM to the selected solver. with a maximum allowed runtime of one minute"
   ]
  },
  {
   "cell_type": "code",
   "execution_count": 27,
   "metadata": {},
   "outputs": [
    {
     "name": "stdout",
     "output_type": "stream",
     "text": [
      "123 feasible solutions of 147.\n"
     ]
    }
   ],
   "source": [
    "sampleset = sampler.sample_cqm(cqm, \n",
    "                                time_limit = 60, \n",
    "                                label = \"Sam Stock Sales Strategy Trial\")\n",
    "print(\"{} feasible solutions of {}.\".format(\n",
    "    sampleset.record.is_feasible.sum(), len(sampleset)))"
   ]
  },
  {
   "cell_type": "markdown",
   "metadata": {},
   "source": [
    "parse and print the best feasible solution:"
   ]
  },
  {
   "cell_type": "code",
   "execution_count": 28,
   "metadata": {},
   "outputs": [
    {
     "name": "stdout",
     "output_type": "stream",
     "text": [
      "Post-tax income of 9282.0 found for daily sales of: \n",
      "[0.0, 0.0, 0.0, 13.0, 14.0, 15.0, 15.0, 16.0, 13.0, 14.0]\n"
     ]
    }
   ],
   "source": [
    "r, s, best= parse_best(sampleset)\n",
    "income = sum(r) - best.sample['t']*tax_payment\n",
    "print(\"Post-tax income of {} found for daily sales of: \\n{}\".format(income, s))"
   ]
  },
  {
   "cell_type": "markdown",
   "metadata": {},
   "source": [
    "Notice that the existence of this tax, though avoided in the sales strateg found above, has reduced your income by a little less than the tax free (the maximum inciome if you had paid the tax would be 9275). If the tax is slightly reduced, it is more profitale to sell during the axation period and pay the tax. "
   ]
  },
  {
   "cell_type": "code",
   "execution_count": 29,
   "metadata": {},
   "outputs": [
    {
     "name": "stdout",
     "output_type": "stream",
     "text": [
      "Post-tax income of 9283.0 found for daily sales of: \n",
      "[0.0, 0.0, 0.0, 14.0, 13.0, 14.0, 16.0, 15.0, 14.0, 14.0]\n"
     ]
    }
   ],
   "source": [
    "tax_payment = 220\n",
    "cqm.set_objective(tax_payment*t - sum(revenue))\n",
    "sampleset = sampler.sample_cqm(cqm, \n",
    "                                time_limit = 60, \n",
    "                                label = \"Sam Sales Strategy Trial\")\n",
    "r, s, best = parse_best(sampleset)\n",
    "income = sum(r) - best.sample['t']*tax_payment\n",
    "print(\"Post-tax income of {} found for daily sales of: \\n{}\".format(income, s))"
   ]
  },
  {
   "cell_type": "code",
   "execution_count": null,
   "metadata": {},
   "outputs": [],
   "source": []
  }
 ],
 "metadata": {
  "kernelspec": {
   "display_name": "ocean",
   "language": "python",
   "name": "ocean"
  },
  "language_info": {
   "codemirror_mode": {
    "name": "ipython",
    "version": 3
   },
   "file_extension": ".py",
   "mimetype": "text/x-python",
   "name": "python",
   "nbconvert_exporter": "python",
   "pygments_lexer": "ipython3",
   "version": "3.10.6"
  },
  "orig_nbformat": 4
 },
 "nbformat": 4,
 "nbformat_minor": 2
}
