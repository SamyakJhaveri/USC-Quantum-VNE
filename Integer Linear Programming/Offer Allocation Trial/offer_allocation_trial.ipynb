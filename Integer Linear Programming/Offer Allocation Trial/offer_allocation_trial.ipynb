{
 "cells": [
  {
   "cell_type": "markdown",
   "metadata": {},
   "source": [
    "# Offer Allocation Problem"
   ]
  },
  {
   "cell_type": "markdown",
   "metadata": {},
   "source": [
    "Price discrimination is often achieved by having one stated public price but offer- ing individual consumers discounts or coupons which lower the individual consumer’s price. Finding the op- timal mix of discounts or coupons in order to maximize profitability is an optimal-selection problem, naturally formulated as a constrained quadratic binary model."
   ]
  },
  {
   "cell_type": "markdown",
   "metadata": {},
   "source": [
    "Assign $m$ offers to $n$ consumers. <br>\n",
    "Each offer $m$ can only be given to a small number of consumers $c_{j}$, <br>\n",
    "And each consumer can only receive a handful of offers $c_{i}$. \n",
    "Binary variable $a_{i, j}$ is assigned to each offer-consumer pair. "
   ]
  },
  {
   "cell_type": "markdown",
   "metadata": {},
   "source": [
    "**Constraint 1:** <br>\n",
    "Constraint on the number of consumers given an offer : <br>\n",
    "$\\sum_{i}^{n} a_{i, j} \\leq c_{j}$\n"
   ]
  },
  {
   "cell_type": "markdown",
   "metadata": {},
   "source": [
    "**Constraint 2:** <br>\n",
    "Constraint on the number of offers given to a consumer: <br>\n",
    "$\\sum_{i}^{n} a_{i, j} \\leq c_{i}$\n"
   ]
  },
  {
   "cell_type": "code",
   "execution_count": 4,
   "metadata": {},
   "outputs": [],
   "source": [
    "import dimod\n",
    "import numpy as np"
   ]
  },
  {
   "cell_type": "code",
   "execution_count": 20,
   "metadata": {},
   "outputs": [],
   "source": [
    "def offer_allocation(m, n, c_consumers, c_offers, values):\n",
    "    \"\"\"Offer Allocation Function\n",
    "    m: number of offers\n",
    "    n: number of consumers\n",
    "    c_consumers: total number of offers per consumer\n",
    "    total_offers: total number of offers\n",
    "    \"\"\"\n",
    "\n",
    "    cqm = dimod.ConstrainedQuadraticModel()\n",
    "\n",
    "    assignments = {}\n",
    "    for i in range(n): \n",
    "        # loops over number of consumers (n)\n",
    "        for j in range(m):\n",
    "            # loops of number of offers (m)\n",
    "            # each offer-consumer pair is a binmary variable\n",
    "            pair = dimod.Binary(f\"consumer_{i}_offer_{j}\")\n",
    "            assignments[i, j] = pair\n",
    "    \n",
    "    # Constraint 2: each consumer gets c_consumers offers\n",
    "    for i in range(n):\n",
    "        cqm.add_constraint_from_comparison(\n",
    "            dimod.quicksum(assignments[i, j] for j in range(m)\n",
    "            ) <= c_consumers[i]\n",
    "        )\n",
    "\n",
    "    # Constraint 1: each offer can only be given a limited number of times\n",
    "    for j in range(m):\n",
    "        cqm.add_constraint_from_comparison(\n",
    "            dimod.quicksum(assignments[i, j] for i in range(n)\n",
    "            ) <= c_offers[j]\n",
    "        )\n",
    "    \n",
    "    # Objective: Maximize total value of deal mix per customer offered deals\n",
    "    cqm.set_objective(\n",
    "        dimod.quicksum(\n",
    "            -val * assignments[i, j] * assignments[i, k]\n",
    "            for (i, j, k), val in values.items()\n",
    "            if j > k\n",
    "        ),\n",
    "    )\n",
    "\n",
    "    return cqm"
   ]
  },
  {
   "cell_type": "code",
   "execution_count": 21,
   "metadata": {},
   "outputs": [],
   "source": [
    "m = 5  # number of offers\n",
    "n = 10  # number of consumers\n",
    "c_consumers = np.random.randint(1, m, n)  # random number of offers per consumer\n",
    "c_offers = np.random.randint(1, n, m)  # random number of times each offer can be given\n",
    "values = {(i, j, k): np.random.rand() for i in range(n) for j in range(m) for k in range(m) if j > k}  # random values for each offer-consumer pair\n"
   ]
  },
  {
   "cell_type": "code",
   "execution_count": 22,
   "metadata": {},
   "outputs": [],
   "source": [
    "cqm = offer_allocation(m, n, c_consumers, c_offers, values)"
   ]
  },
  {
   "cell_type": "markdown",
   "metadata": {},
   "source": [
    "## Solve the Prvoblem by Sampling"
   ]
  },
  {
   "cell_type": "code",
   "execution_count": 23,
   "metadata": {},
   "outputs": [],
   "source": [
    "from dwave.system import LeapHybridCQMSampler\n",
    "sampler = LeapHybridCQMSampler()"
   ]
  },
  {
   "cell_type": "code",
   "execution_count": 24,
   "metadata": {},
   "outputs": [
    {
     "name": "stdout",
     "output_type": "stream",
     "text": [
      "84 feasible solutions of 120.\n"
     ]
    }
   ],
   "source": [
    "sampleset = sampler.sample_cqm(cqm)\n",
    "feasible_sampleset = sampleset.filter(lambda row: row.is_feasible)\n",
    "print(\"{} feasible solutions of {}.\".format(len(feasible_sampleset), len(sampleset)))"
   ]
  },
  {
   "cell_type": "markdown",
   "metadata": {},
   "source": [
    "Defining a utility function, `print_allocation` to print the returned solutions in an intuitive format"
   ]
  },
  {
   "cell_type": "code",
   "execution_count": 28,
   "metadata": {},
   "outputs": [
    {
     "name": "stdout",
     "output_type": "stream",
     "text": [
      "Feasible Sampleset:Sample(sample={'consumer_0_offer_0': 1.0, 'consumer_0_offer_1': 1.0, 'consumer_0_offer_2': 0.0, 'consumer_0_offer_3': 0.0, 'consumer_0_offer_4': 1.0, 'consumer_1_offer_0': 0.0, 'consumer_1_offer_1': 0.0, 'consumer_1_offer_2': 0.0, 'consumer_1_offer_3': 0.0, 'consumer_1_offer_4': 0.0, 'consumer_2_offer_0': 0.0, 'consumer_2_offer_1': 1.0, 'consumer_2_offer_2': 1.0, 'consumer_2_offer_3': 0.0, 'consumer_2_offer_4': 0.0, 'consumer_3_offer_0': 1.0, 'consumer_3_offer_1': 1.0, 'consumer_3_offer_2': 1.0, 'consumer_3_offer_3': 0.0, 'consumer_3_offer_4': 0.0, 'consumer_4_offer_0': 0.0, 'consumer_4_offer_1': 1.0, 'consumer_4_offer_2': 1.0, 'consumer_4_offer_3': 0.0, 'consumer_4_offer_4': 1.0, 'consumer_5_offer_0': 0.0, 'consumer_5_offer_1': 0.0, 'consumer_5_offer_2': 0.0, 'consumer_5_offer_3': 0.0, 'consumer_5_offer_4': 0.0, 'consumer_6_offer_0': 0.0, 'consumer_6_offer_1': 1.0, 'consumer_6_offer_2': 0.0, 'consumer_6_offer_3': 0.0, 'consumer_6_offer_4': 0.0, 'consumer_7_offer_0': 1.0, 'consumer_7_offer_1': 1.0, 'consumer_7_offer_2': 0.0, 'consumer_7_offer_3': 0.0, 'consumer_7_offer_4': 1.0, 'consumer_8_offer_0': 1.0, 'consumer_8_offer_1': 1.0, 'consumer_8_offer_2': 1.0, 'consumer_8_offer_3': 1.0, 'consumer_8_offer_4': 0.0, 'consumer_9_offer_0': 0.0, 'consumer_9_offer_1': 0.0, 'consumer_9_offer_2': 0.0, 'consumer_9_offer_3': 0.0, 'consumer_9_offer_4': 0.0}, energy=-12.39797278113304, num_occurrences=1, is_satisfied=array([ True,  True,  True,  True,  True,  True,  True,  True,  True,\n",
      "        True,  True,  True,  True,  True,  True]), is_feasible=True)\n"
     ]
    }
   ],
   "source": [
    "print(\"Feasible Sampleset:{}\".format(feasible_sampleset.first))"
   ]
  },
  {
   "cell_type": "code",
   "execution_count": null,
   "metadata": {},
   "outputs": [],
   "source": [
    "def print_diet(sample):\n",
    "    diet = {food: round(quantity, 1) for food, quantity in sample.items()}\n",
    "    print(f\"Diet: {diet}\")\n",
    "    taste_total = sum(foods[food]['Taste'] * amount for food, amount in sample.items())\n",
    "    cost_total = sum(foods[food]['Cost'] * amount for food, amount in sample.items())\n",
    "    print(f\"Total Taste of {round(taste_total, 2)} at Cost ${round(cost_total, 2)}\")\n",
    "    for constraint in cqm.iter_constraint_data(sample):\n",
    "        print(f\"{constraint.label} (nominal: {constraint.rhs_energy}) : {round(constraint.lhs_energy)}\")"
   ]
  },
  {
   "cell_type": "code",
   "execution_count": null,
   "metadata": {},
   "outputs": [],
   "source": []
  },
  {
   "cell_type": "code",
   "execution_count": null,
   "metadata": {},
   "outputs": [],
   "source": []
  }
 ],
 "metadata": {
  "kernelspec": {
   "display_name": "ocean",
   "language": "python",
   "name": "ocean"
  },
  "language_info": {
   "codemirror_mode": {
    "name": "ipython",
    "version": 3
   },
   "file_extension": ".py",
   "mimetype": "text/x-python",
   "name": "python",
   "nbconvert_exporter": "python",
   "pygments_lexer": "ipython3",
   "version": "3.10.12"
  }
 },
 "nbformat": 4,
 "nbformat_minor": 2
}
