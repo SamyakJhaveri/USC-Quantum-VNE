{
 "cells": [
  {
   "cell_type": "markdown",
   "metadata": {},
   "source": [
    "## Network Slicing using Integer Linear Programming Trial by Samyak Jhaveri for USC ISI Virtual Netowrk Embedding Problem - TOY PROBLEM\n"
   ]
  },
  {
   "cell_type": "markdown",
   "metadata": {},
   "source": [
    "References:\n",
    "- https://stackoverflow.com/questions/33168699/remove-rotation-effect-when-drawing-a-square-grid-of-mxm-nodes-in-networkx-using\n",
    "- https://gis.stackexchange.com/questions/321356/how-to-create-a-weighted-square-lattice-as-well-as-a-weighted-network-graph\n",
    "- https://stackoverflow.com/questions/69419142/how-to-make-a-networkx-grid-given-a-list-of-points-and-add-edge-weights\n",
    "- https://stackoverflow.com/questions/13698352/storing-and-accessing-node-attributes-python-networkx\n"
   ]
  },
  {
   "cell_type": "markdown",
   "metadata": {},
   "source": [
    "Trial 1 - Inspired from 'Diet Planning' example"
   ]
  },
  {
   "cell_type": "markdown",
   "metadata": {},
   "source": [
    "## Importing and Installing necessary libraries and Frameworks"
   ]
  },
  {
   "cell_type": "code",
   "execution_count": null,
   "metadata": {},
   "outputs": [],
   "source": [
    "import dimod\n",
    "from dimod import Integer, Binary\n",
    "import networkx as nx\n",
    "from matplotlib import pyplot as plt\n",
    "import random"
   ]
  },
  {
   "cell_type": "markdown",
   "metadata": {},
   "source": [
    "## Generating Physical Substrate Network (SN) graphs and Virtual Network Request (VNR) graphs"
   ]
  },
  {
   "cell_type": "markdown",
   "metadata": {},
   "source": [
    "### For Creating and Toying with initial code"
   ]
  },
  {
   "cell_type": "code",
   "execution_count": null,
   "metadata": {},
   "outputs": [],
   "source": [
    "# Creating Substrate Network (SN) graph\n",
    "SN_graph = nx.Graph()\n",
    "sn_node_attributes = {}\n",
    "sn_edge_attributes = {}\n",
    "\n",
    "edges = [(1, 2), (2, 3), (3, 4), (4, 0), (0, 3), (1, 3)]\n",
    "SN_graph.add_edges_from(edges)\n",
    "\n",
    "for node in SN_graph.nodes:\n",
    "        sn_node_attributes[node] = {'cpu_capacity': (random.randint(1, 5)*10)}  # You can change the CPU capacity as needed\n",
    "\n",
    "# Assign bandwidth capacities to edges\n",
    "for u, v in SN_graph.edges:\n",
    "        sn_edge_attributes[(u, v)] = {'bandwidth_capacity': 50}  # You can change the bandwidth capacity as needed\n",
    "        \n",
    "# Set node and edge attributes for the graph\n",
    "nx.set_node_attributes(SN_graph, sn_node_attributes)\n",
    "nx.set_edge_attributes(SN_graph, sn_edge_attributes)\n",
    "\n"
   ]
  },
  {
   "cell_type": "code",
   "execution_count": null,
   "metadata": {},
   "outputs": [],
   "source": [
    "# Creating Virtual Network Request (VNR) Graph 1\n",
    "VNR1_graph = nx.Graph()\n",
    "vnr1_node_attributes = {}\n",
    "vnr1_edge_attributes = {}\n",
    "\n",
    "edges = [(0, 1), (1, 2), (2, 0)]\n",
    "VNR1_graph.add_edges_from(edges)\n",
    "\n",
    "for node in VNR1_graph.nodes:\n",
    "        vnr1_node_attributes[node] = {'cpu_demand': random.randint(1, 25)}  # You can change the CPU capacity as needed\n",
    "\n",
    "# Assign Bandwidth demands to edges\n",
    "for u, v in VNR1_graph.edges:\n",
    "    vnr1_edge_attributes[(u, v)] = {'bandwidth_demand': random.randint(1, 25)} \n",
    "\n",
    "\n",
    "# Set node and edge attributes for the graph\n",
    "nx.set_node_attributes(VNR1_graph, vnr1_node_attributes)\n",
    "nx.set_edge_attributes(VNR1_graph, vnr1_edge_attributes)\n"
   ]
  },
  {
   "cell_type": "code",
   "execution_count": null,
   "metadata": {},
   "outputs": [],
   "source": [
    "\"\"\"# Creating Virtual Network Request (VNR) Graph 1\n",
    "VNR2_graph = nx.Graph()\n",
    "vnr2_node_attributes = {}\n",
    "vnr2_edge_attributes = {}\n",
    "\n",
    "edges = [(0, 1)]\n",
    "VNR2_graph.add_edges_from(edges)\n",
    "\n",
    "for node in VNR2_graph.nodes:\n",
    "        vnr2_node_attributes[node] = {'cpu_demand': random.randint(1, 25)}  # You can change the CPU capacity as needed\n",
    "\n",
    "# Assign Bandwidth demands to edges\n",
    "for u, v in VNR2_graph.edges:\n",
    "    vnr2_edge_attributes[(u, v)] = {'bandwidth_demand': random.randint(1, 25)} \n",
    "\n",
    "\n",
    "# Set node and edge attributes for the graph\n",
    "nx.set_node_attributes(VNR2_graph, vnr2_node_attributes)\n",
    "nx.set_edge_attributes(VNR2_graph, vnr2_edge_attributes)\n",
    "\"\"\""
   ]
  },
  {
   "cell_type": "code",
   "execution_count": null,
   "metadata": {},
   "outputs": [],
   "source": [
    "nx.draw_networkx(SN_graph, with_labels=True)\n",
    "plt.axis('off')\n",
    "plt.show()\n",
    "\n",
    "nx.draw_networkx(VNR1_graph, with_labels=True)\n",
    "plt.axis('off')\n",
    "plt.show()\n",
    "\n",
    "\"\"\"\n",
    "nx.draw_networkx(VNR2_graph, with_labels=True)\n",
    "plt.axis('off')\n",
    "plt.show()\n",
    "\"\"\"\n",
    "\n",
    "print(\"SN_node_attrributes:{}\".format(nx.get_node_attributes(SN_graph, 'cpu_capacity')))\n",
    "print(\"SN_edge_attrributes:{}\".format(nx.get_edge_attributes(SN_graph, 'bandwidth_capacity')))\n",
    "\n",
    "\n",
    "print(\"VNR1_node_attrributes:{}\".format(nx.get_node_attributes(VNR1_graph, 'cpu_demand')))\n",
    "print(\"VNR1_edge_attrributes:{}\".format(nx.get_edge_attributes(VNR1_graph, 'bandwidth_demand')))\n",
    "\n",
    "\"\"\"\n",
    "print(\"VNR2_node_attrributes:{}\".format(nx.get_node_attributes(VNR2_graph, 'cpu_demand')))\n",
    "print(\"VNR2_edge_attrributes:{}\".format(nx.get_edge_attributes(VNR2_graph, 'bandwidth_demand')))\n",
    "\"\"\""
   ]
  },
  {
   "cell_type": "code",
   "execution_count": null,
   "metadata": {},
   "outputs": [],
   "source": [
    "VNR1_node_attributes = nx.get_node_attributes(VNR1_graph, 'cpu_demand')\n",
    "VNR1_edge_attributes = nx.get_edge_attributes(VNR1_graph, 'bandwidth_demand')\n",
    "# VNR2_node_attributes = nx.get_node_attributes(VNR2_graph, 'cpu_demand')\n",
    "# VNR2_edge_attributes = nx.get_edge_attributes(VNR2_graph, 'bandwidth_demand')\n",
    "SN_node_attributes = nx.get_node_attributes(SN_graph, 'cpu_capacity')\n",
    "SN_edge_attributes = nx.get_edge_attributes(SN_graph, 'bandwidth_capacity')\n",
    "print(VNR1_node_attributes)"
   ]
  },
  {
   "cell_type": "markdown",
   "metadata": {},
   "source": [
    "## Add BINARY Decision Variable $x$ over which the optimization shall be performed for nodes, and $y$ for edges. \n",
    "$x^{u}_{ik}$ is a Binary decision variable such that it takes the value 1 if node $n^{s}_{ik}$ of request $vnr_{k}$ is mapped top node $n^{I}_{u}$ of the SN, 0 otherwise. <br>\n",
    "And, <br>\n",
    "$y^{uv}_{ijk}$, takes the value 1 is the link $e^{S}_{ijk}$ of requet $VNR_{k}$ is mapped through the physical link $e^{I}_{uv}$ os SN, and 0 otherwise"
   ]
  },
  {
   "cell_type": "code",
   "execution_count": null,
   "metadata": {},
   "outputs": [],
   "source": [
    "import cytoolz as tl"
   ]
  },
  {
   "cell_type": "code",
   "execution_count": null,
   "metadata": {},
   "outputs": [],
   "source": [
    "VNR_n = len(VNR1_graph.nodes) # number of nodes in VNR1 Graph\n",
    "SN_n = len(SN_graph.nodes) # number of nodes in SN Graph"
   ]
  },
  {
   "cell_type": "code",
   "execution_count": null,
   "metadata": {},
   "outputs": [],
   "source": [
    "x = [dimod.Binary(f'x{i}_{j}') for j in range(VNR_n) for i in range(SN_n)]"
   ]
  },
  {
   "cell_type": "code",
   "execution_count": null,
   "metadata": {},
   "outputs": [],
   "source": [
    "print(x[3])"
   ]
  },
  {
   "cell_type": "code",
   "execution_count": null,
   "metadata": {},
   "outputs": [],
   "source": [
    "\"\"\"\n",
    "x = [[f'x{i}_{j}' for j in range(VNR_n)] for i in range(SN_n)]\n",
    "print(\"x:{}\".format(x))\n",
    "cqm.add_variables('BINARY', tl.concat(x))\n",
    "\"\"\"\n",
    "# Alterantively, you can use the following code to add the variables\n",
    "# for i in range(SN_n):\n",
    "#    for j in range(VNR_n):\n",
    "#        cqm.add_variable('BINARY', x[i][j])\n",
    "\n"
   ]
  },
  {
   "cell_type": "code",
   "execution_count": null,
   "metadata": {},
   "outputs": [],
   "source": [
    "print(\"x:_{}\".format(type(x)))\n",
    "\n",
    "print(\"Variables in use:{}\".format(cqm.variables[3]))"
   ]
  },
  {
   "cell_type": "code",
   "execution_count": null,
   "metadata": {},
   "outputs": [],
   "source": [
    "\"\"\"# cqm.add_variable(dimod.BINARY, 'x') # len(SN_nodes), dimod.BINARY) variable for node mapping \n",
    "xs = {vnr_node: Binary(sn_node) for vnr_node in VNR1_graph.nodes() for sn_node in SN_graph.nodes()}\n",
    "# (wrong) xs = {vnr_node: sn_node for vnr_node, sn_node in zip(VNR1_graph.nodes(), SN_graph.nodes())} --> xs:{0: 0, 1: 1, 2: 2}\n",
    "xs = {x[sn_node][]}\n",
    "\n",
    "print(\"xs:{}\".format(xs))\n",
    "`tl` comes from cytoolz.concat\n",
    "x = [[f'x{i}_{j}' for j in range(n)] for i in range(n)]\n",
    "cqm.add_variables(BINARY, tl.concat(x))\n",
    "\"\"\""
   ]
  },
  {
   "cell_type": "code",
   "execution_count": null,
   "metadata": {},
   "outputs": [],
   "source": []
  },
  {
   "cell_type": "code",
   "execution_count": null,
   "metadata": {},
   "outputs": [],
   "source": [
    "total_cpu_demand = sum(VNR1_node_attributes[j] * x[i][j] for i in range(SN_n) for j in range(VNR_n))\n"
   ]
  },
  {
   "cell_type": "markdown",
   "metadata": {},
   "source": [
    "## Total usage of resources by the nodes of VNR for using the physical nodes of SN are \n"
   ]
  },
  {
   "cell_type": "code",
   "execution_count": null,
   "metadata": {},
   "outputs": [],
   "source": [
    "cpu_usage_cost = 0\n",
    "VNR1_node_attributes[0] * x"
   ]
  },
  {
   "cell_type": "code",
   "execution_count": null,
   "metadata": {},
   "outputs": [],
   "source": []
  },
  {
   "cell_type": "markdown",
   "metadata": {},
   "source": [
    "## Instantiate the CQM"
   ]
  },
  {
   "cell_type": "code",
   "execution_count": null,
   "metadata": {},
   "outputs": [],
   "source": [
    "cqm = dimod.ConstrainedQuadraticModel()"
   ]
  },
  {
   "cell_type": "code",
   "execution_count": null,
   "metadata": {},
   "outputs": [],
   "source": []
  },
  {
   "cell_type": "code",
   "execution_count": null,
   "metadata": {},
   "outputs": [],
   "source": []
  },
  {
   "cell_type": "code",
   "execution_count": null,
   "metadata": {},
   "outputs": [],
   "source": []
  },
  {
   "cell_type": "code",
   "execution_count": null,
   "metadata": {},
   "outputs": [],
   "source": []
  }
 ],
 "metadata": {
  "kernelspec": {
   "display_name": "ocean",
   "language": "python",
   "name": "ocean"
  },
  "language_info": {
   "codemirror_mode": {
    "name": "ipython",
    "version": 3
   },
   "file_extension": ".py",
   "mimetype": "text/x-python",
   "name": "python",
   "nbconvert_exporter": "python",
   "pygments_lexer": "ipython3",
   "version": "3.10.12"
  },
  "orig_nbformat": 4
 },
 "nbformat": 4,
 "nbformat_minor": 2
}
